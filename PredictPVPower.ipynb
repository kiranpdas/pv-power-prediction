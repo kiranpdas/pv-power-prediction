{
 "cells": [
  {
   "cell_type": "markdown",
   "metadata": {},
   "source": [
    "# ----------------- PhotoVoltaic Power Prediction ----------------- "
   ]
  },
  {
   "cell_type": "code",
   "execution_count": 1,
   "metadata": {},
   "outputs": [],
   "source": [
    "import pandas as pd\n",
    "import matplotlib.pyplot as plt\n",
    "import xgboost as xgb\n",
    "from sklearn.model_selection import train_test_split\n",
    "from sklearn.metrics import mean_squared_error\n",
    "import warnings\n",
    "warnings.simplefilter(action='ignore', category=FutureWarning)"
   ]
  },
  {
   "cell_type": "markdown",
   "metadata": {},
   "source": [
    "## Load data and format columns"
   ]
  },
  {
   "cell_type": "code",
   "execution_count": null,
   "metadata": {},
   "outputs": [],
   "source": [
    "# Load Data\n",
    "power_df = pd.read_csv(\"data/EXPORT HourlyData - Customer Endpoints.csv\")\n",
    "weather_df = pd.read_csv(\"data/london_weather.csv\")"
   ]
  },
  {
   "cell_type": "code",
   "execution_count": 3,
   "metadata": {},
   "outputs": [],
   "source": [
    "# Format datetime\n",
    "weather_df[\"datetime\"] = pd.to_datetime(weather_df[\"Date\"].astype(str) + \" \" + weather_df[\"Time\"].astype(str))\n",
    "power_df[\"datetime\"] = pd.to_datetime(power_df[\"datetime\"])"
   ]
  },
  {
   "cell_type": "code",
   "execution_count": 4,
   "metadata": {},
   "outputs": [],
   "source": [
    "# Filter src\n",
    "START_TIME = \"2014-03-09 00:00:00\"\n",
    "END_TIME = \"2014-06-30 23:00:00\"\n",
    "SUBSTATION = \"Forest Road\"\n",
    "\n",
    "weather_df = weather_df[weather_df[\"Site\"]==SUBSTATION]\n",
    "weather_df = weather_df[\n",
    "    (weather_df[\"datetime\"]>START_TIME) & (weather_df[\"datetime\"]<END_TIME)\n",
    "]\n",
    "power_df = power_df[power_df[\"Substation\"]==SUBSTATION]\n",
    "power_df = power_df[\n",
    "    (power_df[\"datetime\"]>START_TIME) & (power_df[\"datetime\"]<END_TIME)\n",
    "]"
   ]
  },
  {
   "cell_type": "code",
   "execution_count": 5,
   "metadata": {},
   "outputs": [],
   "source": [
    "# Create target power\n",
    "power_df[\"P_GEN\"] = ((power_df[\"P_GEN_MAX\"] + power_df[\"P_GEN_MIN\"])/2)*100"
   ]
  },
  {
   "cell_type": "code",
   "execution_count": 6,
   "metadata": {},
   "outputs": [],
   "source": [
    "# Join power data with weather\n",
    "joined_df = power_df.merge(weather_df,\n",
    "                           how=\"inner\",\n",
    "                           left_on=[\"Substation\", \"datetime\"],\n",
    "                           right_on=[\"Site\", \"datetime\"]) "
   ]
  },
  {
   "cell_type": "markdown",
   "metadata": {},
   "source": [
    "## Exploratory Analysis"
   ]
  },
  {
   "cell_type": "code",
   "execution_count": 7,
   "metadata": {},
   "outputs": [
    {
     "data": {
      "text/html": [
       "<div>\n",
       "<style scoped>\n",
       "    .dataframe tbody tr th:only-of-type {\n",
       "        vertical-align: middle;\n",
       "    }\n",
       "\n",
       "    .dataframe tbody tr th {\n",
       "        vertical-align: top;\n",
       "    }\n",
       "\n",
       "    .dataframe thead th {\n",
       "        text-align: right;\n",
       "    }\n",
       "</style>\n",
       "<table border=\"1\" class=\"dataframe\">\n",
       "  <thead>\n",
       "    <tr style=\"text-align: right;\">\n",
       "      <th></th>\n",
       "      <th>Site</th>\n",
       "      <th>Date</th>\n",
       "      <th>Time</th>\n",
       "      <th>TempOut</th>\n",
       "      <th>HiTemp</th>\n",
       "      <th>LowTemp</th>\n",
       "      <th>OutHum</th>\n",
       "      <th>DewPt</th>\n",
       "      <th>WindSpeed</th>\n",
       "      <th>WindDir</th>\n",
       "      <th>...</th>\n",
       "      <th>InDew</th>\n",
       "      <th>InHeat</th>\n",
       "      <th>InEMC</th>\n",
       "      <th>InAirDensity</th>\n",
       "      <th>ET</th>\n",
       "      <th>WindSamp</th>\n",
       "      <th>WindTx</th>\n",
       "      <th>ISSRecept</th>\n",
       "      <th>ArcInt</th>\n",
       "      <th>datetime</th>\n",
       "    </tr>\n",
       "  </thead>\n",
       "  <tbody>\n",
       "    <tr>\n",
       "      <th>33968</th>\n",
       "      <td>Forest Road</td>\n",
       "      <td>03/23/2014</td>\n",
       "      <td>14:30</td>\n",
       "      <td>8.3</td>\n",
       "      <td>8.3</td>\n",
       "      <td>7.3</td>\n",
       "      <td>75</td>\n",
       "      <td>4.1</td>\n",
       "      <td>2</td>\n",
       "      <td>ENE</td>\n",
       "      <td>...</td>\n",
       "      <td>2.3</td>\n",
       "      <td>11.9</td>\n",
       "      <td>9.15</td>\n",
       "      <td>0.0758</td>\n",
       "      <td>0.18</td>\n",
       "      <td>702</td>\n",
       "      <td>1</td>\n",
       "      <td>100.0</td>\n",
       "      <td>30</td>\n",
       "      <td>2014-03-23 14:30:00</td>\n",
       "    </tr>\n",
       "    <tr>\n",
       "      <th>33969</th>\n",
       "      <td>Forest Road</td>\n",
       "      <td>03/23/2014</td>\n",
       "      <td>15:00</td>\n",
       "      <td>6.4</td>\n",
       "      <td>8.6</td>\n",
       "      <td>6.4</td>\n",
       "      <td>80</td>\n",
       "      <td>3.2</td>\n",
       "      <td>4</td>\n",
       "      <td>ENE</td>\n",
       "      <td>...</td>\n",
       "      <td>2.4</td>\n",
       "      <td>12.1</td>\n",
       "      <td>9.15</td>\n",
       "      <td>0.0757</td>\n",
       "      <td>0.00</td>\n",
       "      <td>703</td>\n",
       "      <td>1</td>\n",
       "      <td>100.0</td>\n",
       "      <td>30</td>\n",
       "      <td>2014-03-23 15:00:00</td>\n",
       "    </tr>\n",
       "    <tr>\n",
       "      <th>33970</th>\n",
       "      <td>Forest Road</td>\n",
       "      <td>03/23/2014</td>\n",
       "      <td>15:30</td>\n",
       "      <td>8.6</td>\n",
       "      <td>8.6</td>\n",
       "      <td>6.4</td>\n",
       "      <td>74</td>\n",
       "      <td>4.2</td>\n",
       "      <td>2</td>\n",
       "      <td>ENE</td>\n",
       "      <td>...</td>\n",
       "      <td>2.7</td>\n",
       "      <td>12.1</td>\n",
       "      <td>9.35</td>\n",
       "      <td>0.0758</td>\n",
       "      <td>0.10</td>\n",
       "      <td>702</td>\n",
       "      <td>1</td>\n",
       "      <td>100.0</td>\n",
       "      <td>30</td>\n",
       "      <td>2014-03-23 15:30:00</td>\n",
       "    </tr>\n",
       "    <tr>\n",
       "      <th>33971</th>\n",
       "      <td>Forest Road</td>\n",
       "      <td>03/23/2014</td>\n",
       "      <td>16:00</td>\n",
       "      <td>6.5</td>\n",
       "      <td>8.7</td>\n",
       "      <td>6.5</td>\n",
       "      <td>73</td>\n",
       "      <td>2</td>\n",
       "      <td>4</td>\n",
       "      <td>ENE</td>\n",
       "      <td>...</td>\n",
       "      <td>2.7</td>\n",
       "      <td>12.2</td>\n",
       "      <td>9.35</td>\n",
       "      <td>0.0758</td>\n",
       "      <td>0.10</td>\n",
       "      <td>703</td>\n",
       "      <td>1</td>\n",
       "      <td>100.0</td>\n",
       "      <td>30</td>\n",
       "      <td>2014-03-23 16:00:00</td>\n",
       "    </tr>\n",
       "    <tr>\n",
       "      <th>33972</th>\n",
       "      <td>Forest Road</td>\n",
       "      <td>03/23/2014</td>\n",
       "      <td>16:30</td>\n",
       "      <td>5.2</td>\n",
       "      <td>6.4</td>\n",
       "      <td>4.7</td>\n",
       "      <td>83</td>\n",
       "      <td>2.5</td>\n",
       "      <td>2</td>\n",
       "      <td>ENE</td>\n",
       "      <td>...</td>\n",
       "      <td>2.8</td>\n",
       "      <td>12.0</td>\n",
       "      <td>9.54</td>\n",
       "      <td>0.0759</td>\n",
       "      <td>0.00</td>\n",
       "      <td>702</td>\n",
       "      <td>1</td>\n",
       "      <td>100.0</td>\n",
       "      <td>30</td>\n",
       "      <td>2014-03-23 16:30:00</td>\n",
       "    </tr>\n",
       "  </tbody>\n",
       "</table>\n",
       "<p>5 rows × 37 columns</p>\n",
       "</div>"
      ],
      "text/plain": [
       "              Site        Date   Time TempOut HiTemp LowTemp OutHum DewPt  \\\n",
       "33968  Forest Road  03/23/2014  14:30     8.3    8.3     7.3     75   4.1   \n",
       "33969  Forest Road  03/23/2014  15:00     6.4    8.6     6.4     80   3.2   \n",
       "33970  Forest Road  03/23/2014  15:30     8.6    8.6     6.4     74   4.2   \n",
       "33971  Forest Road  03/23/2014  16:00     6.5    8.7     6.5     73     2   \n",
       "33972  Forest Road  03/23/2014  16:30     5.2    6.4     4.7     83   2.5   \n",
       "\n",
       "       WindSpeed WindDir  ...  InDew  InHeat InEMC InAirDensity    ET  \\\n",
       "33968          2     ENE  ...    2.3    11.9  9.15       0.0758  0.18   \n",
       "33969          4     ENE  ...    2.4    12.1  9.15       0.0757  0.00   \n",
       "33970          2     ENE  ...    2.7    12.1  9.35       0.0758  0.10   \n",
       "33971          4     ENE  ...    2.7    12.2  9.35       0.0758  0.10   \n",
       "33972          2     ENE  ...    2.8    12.0  9.54       0.0759  0.00   \n",
       "\n",
       "      WindSamp WindTx  ISSRecept  ArcInt            datetime  \n",
       "33968      702      1      100.0      30 2014-03-23 14:30:00  \n",
       "33969      703      1      100.0      30 2014-03-23 15:00:00  \n",
       "33970      702      1      100.0      30 2014-03-23 15:30:00  \n",
       "33971      703      1      100.0      30 2014-03-23 16:00:00  \n",
       "33972      702      1      100.0      30 2014-03-23 16:30:00  \n",
       "\n",
       "[5 rows x 37 columns]"
      ]
     },
     "execution_count": 7,
     "metadata": {},
     "output_type": "execute_result"
    }
   ],
   "source": [
    "# Weather Data Head\n",
    "weather_df.head()\n"
   ]
  },
  {
   "cell_type": "code",
   "execution_count": 8,
   "metadata": {},
   "outputs": [
    {
     "data": {
      "text/html": [
       "<div>\n",
       "<style scoped>\n",
       "    .dataframe tbody tr th:only-of-type {\n",
       "        vertical-align: middle;\n",
       "    }\n",
       "\n",
       "    .dataframe tbody tr th {\n",
       "        vertical-align: top;\n",
       "    }\n",
       "\n",
       "    .dataframe thead th {\n",
       "        text-align: right;\n",
       "    }\n",
       "</style>\n",
       "<table border=\"1\" class=\"dataframe\">\n",
       "  <thead>\n",
       "    <tr style=\"text-align: right;\">\n",
       "      <th></th>\n",
       "      <th>SerialNo</th>\n",
       "      <th>Substation</th>\n",
       "      <th>datetime</th>\n",
       "      <th>t_date</th>\n",
       "      <th>t_time</th>\n",
       "      <th>d_y</th>\n",
       "      <th>d_m</th>\n",
       "      <th>d_d</th>\n",
       "      <th>d_w</th>\n",
       "      <th>t_h</th>\n",
       "      <th>...</th>\n",
       "      <th>Substation_thdVB_MAX_Filtered</th>\n",
       "      <th>Substation_thdVC_MIN_Filtered</th>\n",
       "      <th>Substation_thdVC_MAX_Filtered</th>\n",
       "      <th>V_MAX_Rise_vs_VA_MIN_Filtered</th>\n",
       "      <th>V_MAX_Rise_vs_VA_MAX_Filtered</th>\n",
       "      <th>V_MAX_Rise_vs_VB_MIN_Filtered</th>\n",
       "      <th>V_MAX_Rise_vs_VB_MAX_Filtered</th>\n",
       "      <th>V_MAX_Rise_vs_VC_MIN_Filtered</th>\n",
       "      <th>V_MAX_Rise_vs_VC_MAX_Filtered</th>\n",
       "      <th>P_GEN</th>\n",
       "    </tr>\n",
       "  </thead>\n",
       "  <tbody>\n",
       "    <tr>\n",
       "      <th>2934</th>\n",
       "      <td>3067E69020456129</td>\n",
       "      <td>Forest Road</td>\n",
       "      <td>2014-03-09 01:00:00</td>\n",
       "      <td>2014-03-09</td>\n",
       "      <td>01:00:00</td>\n",
       "      <td>2014</td>\n",
       "      <td>3</td>\n",
       "      <td>9</td>\n",
       "      <td>7</td>\n",
       "      <td>1</td>\n",
       "      <td>...</td>\n",
       "      <td>NaN</td>\n",
       "      <td>NaN</td>\n",
       "      <td>NaN</td>\n",
       "      <td>NaN</td>\n",
       "      <td>NaN</td>\n",
       "      <td>NaN</td>\n",
       "      <td>NaN</td>\n",
       "      <td>NaN</td>\n",
       "      <td>NaN</td>\n",
       "      <td>0.2</td>\n",
       "    </tr>\n",
       "    <tr>\n",
       "      <th>2935</th>\n",
       "      <td>3067E69020456129</td>\n",
       "      <td>Forest Road</td>\n",
       "      <td>2014-03-09 02:00:00</td>\n",
       "      <td>2014-03-09</td>\n",
       "      <td>02:00:00</td>\n",
       "      <td>2014</td>\n",
       "      <td>3</td>\n",
       "      <td>9</td>\n",
       "      <td>7</td>\n",
       "      <td>2</td>\n",
       "      <td>...</td>\n",
       "      <td>NaN</td>\n",
       "      <td>NaN</td>\n",
       "      <td>NaN</td>\n",
       "      <td>NaN</td>\n",
       "      <td>NaN</td>\n",
       "      <td>NaN</td>\n",
       "      <td>NaN</td>\n",
       "      <td>NaN</td>\n",
       "      <td>NaN</td>\n",
       "      <td>0.2</td>\n",
       "    </tr>\n",
       "    <tr>\n",
       "      <th>2936</th>\n",
       "      <td>3067E69020456129</td>\n",
       "      <td>Forest Road</td>\n",
       "      <td>2014-03-09 03:00:00</td>\n",
       "      <td>2014-03-09</td>\n",
       "      <td>03:00:00</td>\n",
       "      <td>2014</td>\n",
       "      <td>3</td>\n",
       "      <td>9</td>\n",
       "      <td>7</td>\n",
       "      <td>3</td>\n",
       "      <td>...</td>\n",
       "      <td>NaN</td>\n",
       "      <td>NaN</td>\n",
       "      <td>NaN</td>\n",
       "      <td>NaN</td>\n",
       "      <td>NaN</td>\n",
       "      <td>NaN</td>\n",
       "      <td>NaN</td>\n",
       "      <td>NaN</td>\n",
       "      <td>NaN</td>\n",
       "      <td>0.2</td>\n",
       "    </tr>\n",
       "    <tr>\n",
       "      <th>2937</th>\n",
       "      <td>3067E69020456129</td>\n",
       "      <td>Forest Road</td>\n",
       "      <td>2014-03-09 04:00:00</td>\n",
       "      <td>2014-03-09</td>\n",
       "      <td>04:00:00</td>\n",
       "      <td>2014</td>\n",
       "      <td>3</td>\n",
       "      <td>9</td>\n",
       "      <td>7</td>\n",
       "      <td>4</td>\n",
       "      <td>...</td>\n",
       "      <td>NaN</td>\n",
       "      <td>NaN</td>\n",
       "      <td>NaN</td>\n",
       "      <td>NaN</td>\n",
       "      <td>NaN</td>\n",
       "      <td>NaN</td>\n",
       "      <td>NaN</td>\n",
       "      <td>NaN</td>\n",
       "      <td>NaN</td>\n",
       "      <td>0.2</td>\n",
       "    </tr>\n",
       "    <tr>\n",
       "      <th>2938</th>\n",
       "      <td>3067E69020456129</td>\n",
       "      <td>Forest Road</td>\n",
       "      <td>2014-03-09 05:00:00</td>\n",
       "      <td>2014-03-09</td>\n",
       "      <td>05:00:00</td>\n",
       "      <td>2014</td>\n",
       "      <td>3</td>\n",
       "      <td>9</td>\n",
       "      <td>7</td>\n",
       "      <td>5</td>\n",
       "      <td>...</td>\n",
       "      <td>NaN</td>\n",
       "      <td>NaN</td>\n",
       "      <td>NaN</td>\n",
       "      <td>NaN</td>\n",
       "      <td>NaN</td>\n",
       "      <td>NaN</td>\n",
       "      <td>NaN</td>\n",
       "      <td>NaN</td>\n",
       "      <td>NaN</td>\n",
       "      <td>0.2</td>\n",
       "    </tr>\n",
       "  </tbody>\n",
       "</table>\n",
       "<p>5 rows × 64 columns</p>\n",
       "</div>"
      ],
      "text/plain": [
       "              SerialNo   Substation            datetime      t_date    t_time  \\\n",
       "2934  3067E69020456129  Forest Road 2014-03-09 01:00:00  2014-03-09  01:00:00   \n",
       "2935  3067E69020456129  Forest Road 2014-03-09 02:00:00  2014-03-09  02:00:00   \n",
       "2936  3067E69020456129  Forest Road 2014-03-09 03:00:00  2014-03-09  03:00:00   \n",
       "2937  3067E69020456129  Forest Road 2014-03-09 04:00:00  2014-03-09  04:00:00   \n",
       "2938  3067E69020456129  Forest Road 2014-03-09 05:00:00  2014-03-09  05:00:00   \n",
       "\n",
       "       d_y  d_m  d_d  d_w  t_h  ...  Substation_thdVB_MAX_Filtered  \\\n",
       "2934  2014    3    9    7    1  ...                            NaN   \n",
       "2935  2014    3    9    7    2  ...                            NaN   \n",
       "2936  2014    3    9    7    3  ...                            NaN   \n",
       "2937  2014    3    9    7    4  ...                            NaN   \n",
       "2938  2014    3    9    7    5  ...                            NaN   \n",
       "\n",
       "      Substation_thdVC_MIN_Filtered  Substation_thdVC_MAX_Filtered  \\\n",
       "2934                            NaN                            NaN   \n",
       "2935                            NaN                            NaN   \n",
       "2936                            NaN                            NaN   \n",
       "2937                            NaN                            NaN   \n",
       "2938                            NaN                            NaN   \n",
       "\n",
       "      V_MAX_Rise_vs_VA_MIN_Filtered  V_MAX_Rise_vs_VA_MAX_Filtered  \\\n",
       "2934                            NaN                            NaN   \n",
       "2935                            NaN                            NaN   \n",
       "2936                            NaN                            NaN   \n",
       "2937                            NaN                            NaN   \n",
       "2938                            NaN                            NaN   \n",
       "\n",
       "      V_MAX_Rise_vs_VB_MIN_Filtered  V_MAX_Rise_vs_VB_MAX_Filtered  \\\n",
       "2934                            NaN                            NaN   \n",
       "2935                            NaN                            NaN   \n",
       "2936                            NaN                            NaN   \n",
       "2937                            NaN                            NaN   \n",
       "2938                            NaN                            NaN   \n",
       "\n",
       "      V_MAX_Rise_vs_VC_MIN_Filtered  V_MAX_Rise_vs_VC_MAX_Filtered  P_GEN  \n",
       "2934                            NaN                            NaN    0.2  \n",
       "2935                            NaN                            NaN    0.2  \n",
       "2936                            NaN                            NaN    0.2  \n",
       "2937                            NaN                            NaN    0.2  \n",
       "2938                            NaN                            NaN    0.2  \n",
       "\n",
       "[5 rows x 64 columns]"
      ]
     },
     "execution_count": 8,
     "metadata": {},
     "output_type": "execute_result"
    }
   ],
   "source": [
    "# Power Data Head\n",
    "power_df.head()"
   ]
  },
  {
   "cell_type": "code",
   "execution_count": 9,
   "metadata": {},
   "outputs": [
    {
     "data": {
      "text/plain": [
       "<AxesSubplot:xlabel='datetime'>"
      ]
     },
     "execution_count": 9,
     "metadata": {},
     "output_type": "execute_result"
    },
    {
     "data": {
      "image/png": "[encoded data removed]",
      "text/plain": [
       "<Figure size 432x288 with 1 Axes>"
      ]
     },
     "metadata": {
      "needs_background": "light"
     },
     "output_type": "display_data"
    }
   ],
   "source": [
    "# Power distribution for 5 random days\n",
    "power_df[\n",
    "    (power_df[\"datetime\"]>\"2014-03-10 00:00:00\") \n",
    "        & (power_df[\"datetime\"]<\"2014-03-15 23:59:59\")\n",
    "].plot(x=\"datetime\", y=\"P_GEN\")"
   ]
  },
  {
   "cell_type": "code",
   "execution_count": 10,
   "metadata": {},
   "outputs": [
    {
     "name": "stdout",
     "output_type": "stream",
     "text": [
      "Weather Data Columns:\n",
      "['Site', 'Date', 'Time', 'TempOut', 'HiTemp', 'LowTemp', 'OutHum', 'DewPt', 'WindSpeed', 'WindDir', 'WindRun', 'HiSpeed', 'HiDir', 'WindChill', 'HeatIndex', 'THWIndex', 'THSWIndex', 'Bar', 'Rain', 'RainRate', 'SolarRad', 'SolarEnergy', 'HiSolarRad', 'HeatD-D', 'CoolD-D', 'InTemp', 'InHum', 'InDew', 'InHeat', 'InEMC', 'InAirDensity', 'ET', 'WindSamp', 'WindTx', 'ISSRecept', 'ArcInt', 'datetime']\n"
     ]
    }
   ],
   "source": [
    "# Columns of weather data\n",
    "print(\"Weather Data Columns:\")\n",
    "print(weather_df.columns.to_list())"
   ]
  },
  {
   "cell_type": "code",
   "execution_count": 11,
   "metadata": {
    "scrolled": true
   },
   "outputs": [
    {
     "name": "stdout",
     "output_type": "stream",
     "text": [
      "Rain and Temperature over time\n"
     ]
    },
    {
     "data": {
      "text/plain": [
       "<AxesSubplot:xlabel='datetime'>"
      ]
     },
     "execution_count": 11,
     "metadata": {},
     "output_type": "execute_result"
    },
    {
     "data": {
      "image/png": "[encoded data removed]",
      "text/plain": [
       "<Figure size 432x288 with 1 Axes>"
      ]
     },
     "metadata": {
      "needs_background": "light"
     },
     "output_type": "display_data"
    }
   ],
   "source": [
    "# Rain and Temperature over time\n",
    "print(\"Rain and Temperature over time\")\n",
    "weather_df[\"TempOut\"] = weather_df[\"TempOut\"].astype(float)\n",
    "weather_df[\"Rain\"] = weather_df[\"Rain\"].astype(float)\n",
    "weather_df.plot(x=\"datetime\", y=[\"TempOut\", \"Rain\"])"
   ]
  },
  {
   "cell_type": "code",
   "execution_count": 12,
   "metadata": {},
   "outputs": [
    {
     "name": "stdout",
     "output_type": "stream",
     "text": [
      "Air-pressure over time\n"
     ]
    },
    {
     "data": {
      "text/plain": [
       "<AxesSubplot:xlabel='datetime'>"
      ]
     },
     "execution_count": 12,
     "metadata": {},
     "output_type": "execute_result"
    },
    {
     "data": {
      "image/png": "[encoded data removed]",
      "text/plain": [
       "<Figure size 432x288 with 1 Axes>"
      ]
     },
     "metadata": {
      "needs_background": "light"
     },
     "output_type": "display_data"
    }
   ],
   "source": [
    "# Air-pressure over time\n",
    "print(\"Air-pressure over time\")\n",
    "weather_df[\"Bar\"] = weather_df[\"Bar\"].astype(float)\n",
    "weather_df.plot(x=\"datetime\", y=[\"Bar\"])"
   ]
  },
  {
   "cell_type": "markdown",
   "metadata": {},
   "source": [
    "## Set feature and target and Train Test Split"
   ]
  },
  {
   "cell_type": "code",
   "execution_count": 13,
   "metadata": {},
   "outputs": [],
   "source": [
    "# Set Feature and Target\n",
    "feature_cols = [\n",
    "    \"RainRate\",\n",
    "    \"TempOut\",\n",
    "    \"HiTemp\",\n",
    "    \"LowTemp\",\n",
    "    \"OutHum\",\n",
    "    \"DewPt\",\n",
    "    \"WindSpeed\",\n",
    "    \"WindRun\",\n",
    "    \"HiSpeed\",\n",
    "    \"WindChill\",\n",
    "    \"HeatIndex\",\n",
    "    \"Bar\",\n",
    "    \"Rain\",\n",
    "    \"SolarRad\",\n",
    "    \"SolarEnergy\",\n",
    "    \"HiSolarRad\",\n",
    "    \"HeatD-D\",\n",
    "    \"CoolD-D\",\n",
    "    \"InTemp\",\n",
    "    \"InHum\",\n",
    "    \"InDew\",\n",
    "    \"InHeat\",\n",
    "    \"InEMC\",\n",
    "    \"InAirDensity\",\n",
    "    \"ET\",\n",
    "    \"WindSamp\",\n",
    "    \"WindTx\",\n",
    "    \"ISSRecept\"\n",
    "]\n",
    "\n",
    "target_col = [\"P_GEN\"]"
   ]
  },
  {
   "cell_type": "code",
   "execution_count": 14,
   "metadata": {},
   "outputs": [],
   "source": [
    "# Convert feature cols to float\n",
    "for col in feature_cols:\n",
    "    joined_df[col] = joined_df[col].astype(float)"
   ]
  },
  {
   "cell_type": "code",
   "execution_count": 15,
   "metadata": {},
   "outputs": [],
   "source": [
    "# Train Test split\n",
    "X = joined_df[feature_cols]\n",
    "y = joined_df[target_col].astype(float)\n",
    "X_train, X_test, y_train, y_test = train_test_split(X, y)"
   ]
  },
  {
   "cell_type": "markdown",
   "metadata": {},
   "source": [
    "# Build XGBoost Model"
   ]
  },
  {
   "cell_type": "code",
   "execution_count": 16,
   "metadata": {},
   "outputs": [],
   "source": [
    "# Create model object\n",
    "regressor = xgb.XGBRegressor(\n",
    "    n_estimators=100,\n",
    "    reg_lambda=1,\n",
    "    gamma=0,\n",
    "    max_depth=3\n",
    ")"
   ]
  },
  {
   "cell_type": "code",
   "execution_count": 17,
   "metadata": {},
   "outputs": [
    {
     "data": {
      "text/plain": [
       "XGBRegressor(base_score=0.5, booster='gbtree', colsample_bylevel=1,\n",
       "             colsample_bynode=1, colsample_bytree=1, gamma=0, gpu_id=-1,\n",
       "             importance_type='gain', interaction_constraints='',\n",
       "             learning_rate=0.300000012, max_delta_step=0, max_depth=3,\n",
       "             min_child_weight=1, missing=nan, monotone_constraints='()',\n",
       "             n_estimators=100, n_jobs=0, num_parallel_tree=1, random_state=0,\n",
       "             reg_alpha=0, reg_lambda=1, scale_pos_weight=1, subsample=1,\n",
       "             tree_method='exact', validate_parameters=1, verbosity=None)"
      ]
     },
     "execution_count": 17,
     "metadata": {},
     "output_type": "execute_result"
    }
   ],
   "source": [
    "# Fit model\n",
    "regressor.fit(X_train, y_train)"
   ]
  },
  {
   "cell_type": "code",
   "execution_count": 18,
   "metadata": {},
   "outputs": [
    {
     "data": {
      "text/html": [
       "<div>\n",
       "<style scoped>\n",
       "    .dataframe tbody tr th:only-of-type {\n",
       "        vertical-align: middle;\n",
       "    }\n",
       "\n",
       "    .dataframe tbody tr th {\n",
       "        vertical-align: top;\n",
       "    }\n",
       "\n",
       "    .dataframe thead th {\n",
       "        text-align: right;\n",
       "    }\n",
       "</style>\n",
       "<table border=\"1\" class=\"dataframe\">\n",
       "  <thead>\n",
       "    <tr style=\"text-align: right;\">\n",
       "      <th></th>\n",
       "      <th>RainRate</th>\n",
       "      <th>TempOut</th>\n",
       "      <th>HiTemp</th>\n",
       "      <th>LowTemp</th>\n",
       "      <th>OutHum</th>\n",
       "      <th>DewPt</th>\n",
       "      <th>WindSpeed</th>\n",
       "      <th>WindRun</th>\n",
       "      <th>HiSpeed</th>\n",
       "      <th>WindChill</th>\n",
       "      <th>...</th>\n",
       "      <th>InTemp</th>\n",
       "      <th>InHum</th>\n",
       "      <th>InDew</th>\n",
       "      <th>InHeat</th>\n",
       "      <th>InEMC</th>\n",
       "      <th>InAirDensity</th>\n",
       "      <th>ET</th>\n",
       "      <th>WindSamp</th>\n",
       "      <th>WindTx</th>\n",
       "      <th>ISSRecept</th>\n",
       "    </tr>\n",
       "  </thead>\n",
       "  <tbody>\n",
       "    <tr>\n",
       "      <th>0</th>\n",
       "      <td>0.00842</td>\n",
       "      <td>0.004239</td>\n",
       "      <td>0.009199</td>\n",
       "      <td>0.009658</td>\n",
       "      <td>0.012766</td>\n",
       "      <td>0.009433</td>\n",
       "      <td>0.004236</td>\n",
       "      <td>0.0</td>\n",
       "      <td>0.007134</td>\n",
       "      <td>0.006148</td>\n",
       "      <td>...</td>\n",
       "      <td>0.019579</td>\n",
       "      <td>0.007861</td>\n",
       "      <td>0.012488</td>\n",
       "      <td>0.026756</td>\n",
       "      <td>0.013708</td>\n",
       "      <td>0.011651</td>\n",
       "      <td>0.009774</td>\n",
       "      <td>0.02713</td>\n",
       "      <td>0.00622</td>\n",
       "      <td>0.0</td>\n",
       "    </tr>\n",
       "  </tbody>\n",
       "</table>\n",
       "<p>1 rows × 28 columns</p>\n",
       "</div>"
      ],
      "text/plain": [
       "   RainRate   TempOut    HiTemp   LowTemp    OutHum     DewPt  WindSpeed  \\\n",
       "0   0.00842  0.004239  0.009199  0.009658  0.012766  0.009433   0.004236   \n",
       "\n",
       "   WindRun   HiSpeed  WindChill  ...    InTemp     InHum     InDew    InHeat  \\\n",
       "0      0.0  0.007134   0.006148  ...  0.019579  0.007861  0.012488  0.026756   \n",
       "\n",
       "      InEMC  InAirDensity        ET  WindSamp   WindTx  ISSRecept  \n",
       "0  0.013708      0.011651  0.009774   0.02713  0.00622        0.0  \n",
       "\n",
       "[1 rows x 28 columns]"
      ]
     },
     "execution_count": 18,
     "metadata": {},
     "output_type": "execute_result"
    }
   ],
   "source": [
    "# Feature importance\n",
    "pd.DataFrame(regressor.feature_importances_.reshape(1, -1), columns=feature_cols)\n"
   ]
  },
  {
   "cell_type": "markdown",
   "metadata": {},
   "source": [
    "# Predict"
   ]
  },
  {
   "cell_type": "code",
   "execution_count": 19,
   "metadata": {},
   "outputs": [],
   "source": [
    "# Predict on test data\n",
    "y_pred = regressor.predict(X_test)\n"
   ]
  },
  {
   "cell_type": "code",
   "execution_count": 20,
   "metadata": {},
   "outputs": [
    {
     "data": {
      "text/plain": [
       "675.3010420953042"
      ]
     },
     "execution_count": 20,
     "metadata": {},
     "output_type": "execute_result"
    }
   ],
   "source": [
    "# RMSE\n",
    "mean_squared_error(y_test, y_pred)"
   ]
  },
  {
   "cell_type": "code",
   "execution_count": 21,
   "metadata": {},
   "outputs": [],
   "source": [
    "# Predict for single day\n",
    "DATE = \"2014-05-16\"\n",
    "joined_one_day = joined_df[\n",
    "    (joined_df[\"datetime\"]>\"{date} 00:00:00\".format(date=DATE)) \n",
    "        & (joined_df[\"datetime\"]<\"{date} 23:59:59\".format(date=DATE))\n",
    "]\n",
    "X_one_day = joined_one_day[feature_cols]\n",
    "y_one_day = joined_one_day[target_col]\n",
    "y_pred_one_day = regressor.predict(X_one_day)"
   ]
  },
  {
   "cell_type": "code",
   "execution_count": 22,
   "metadata": {},
   "outputs": [
    {
     "data": {
      "text/plain": [
       "127.58007480409124"
      ]
     },
     "execution_count": 22,
     "metadata": {},
     "output_type": "execute_result"
    }
   ],
   "source": [
    "# RMSE for Mar 09\n",
    "mean_squared_error(y_one_day, y_pred_one_day)"
   ]
  },
  {
   "cell_type": "code",
   "execution_count": 23,
   "metadata": {},
   "outputs": [
    {
     "data": {
      "text/plain": [
       "<AxesSubplot:xlabel='datetime'>"
      ]
     },
     "execution_count": 23,
     "metadata": {},
     "output_type": "execute_result"
    },
    {
     "data": {
      "image/png": "[encoded data removed]",
      "text/plain": [
       "<Figure size 432x288 with 1 Axes>"
      ]
     },
     "metadata": {
      "needs_background": "light"
     },
     "output_type": "display_data"
    }
   ],
   "source": [
    "# Plot of actual and predicted power for Mar 09 2014\n",
    "y_pred_one_day_df = pd.DataFrame(data = y_pred_one_day,  \n",
    "                      index = y_one_day.index,  \n",
    "                      columns = [\"predicted_power\"])\n",
    "y_pred_one_day_df[\"actual_power\"] = y_one_day[target_col]\n",
    "y_pred_one_day_df[\"datetime\"] = joined_one_day[\"datetime\"]\n",
    "y_pred_one_day_df.plot(x=\"datetime\", y=[\"predicted_power\", \"actual_power\"])"
   ]
  },
  {
   "cell_type": "markdown",
   "metadata": {},
   "source": [
    "# ------------- Appendix ------------- "
   ]
  },
  {
   "attachments": {},
   "cell_type": "markdown",
   "metadata": {},
   "source": [
    "## Weather Data Fields\n",
    "#### Date\t\t\n",
    "#### Time\t\t\n",
    "#### TempOut -\tOutdoor Temp\t\n",
    "#### HiTemp -\tOutdoor Hi Temp\t\n",
    "#### LowTemp -\tOutdoor Low Temp\t\n",
    "#### OutHum -\tOutdoor Humidity\t\n",
    "#### DewPt -\tDew Point\t\n",
    "#### WindSpeed -\tWind Speed\t\n",
    "The WeatherLink samples the wind speed reading from the station a number of times during the interval (the actual number depends on your archive interval). Those readings are averaged to determine at the average wind speed for the interval. \n",
    "#### WindDir -\tWind Direction\t\n",
    "The WeatherLink samples the wind direction reading a number of times during the interval (the actual number depends on your archive interval). If wind speed is greater than 0 when the WeatherLink samples wind direction, it places a \"marker\" into one of sixteen \"bins\" that correspond to the sixteen compass points. At the time of the archive, the WeatherLink determines which bin contains the most markers and writes the corresponding wind direction to the archive memory as the dominant wind direction.\n",
    "#### WindRun -\tWind Run\t\n",
    "Wind run is a measurement of the \"amount\" of wind passing the station during a given period of time, expressed in either \"miles of wind\" or \"kilometers of wind\". WeatherLink calculates wind run by multiplying the average wind speed for each archive record by the archive interval.\n",
    "#### HiSpeed -\tHi Wind Speed\t\n",
    "#### HiDir -\tHi Wind Direction\t\n",
    "#### WindChill -\tWind Chill\t\n",
    "#### HeatIndex -\tHeat Index\t\n",
    "\"The Heat Index uses the temperature and the relative humidity to determine how hot the air actually \"\"feels.\"\" When humidity is low, the apparent temperature will be lower than the air temperature, since perspiration evaporates rapidly to cool the body. However, when humidity is high (i.e., the air is saturated with water vapor) the apparent temperature \"\"feels\"\" higher than the actual air temperature, because perspiration evaporates more slowly.\n",
    "\n",
    "Note: WeatherLink uses the Steadman (1979 & 1998) formula to calculate Heat Index, which is more accurate than the method used by the Vantage Pro/Vantage Pro2 consoles and is calculated for all temperatures. \"\n",
    "#### THWIndex -\tTemperature Humidity Wind (THW) Index\t\n",
    "The THW Index uses humidity, temperature and wind to calculate an apparent temperature that incorporates the cooling effects of wind on our perception of temperature. \n",
    "#### THSWIndex -\tTemperature Humidity Sun Wind (THSW) Index\t\n",
    "The THWS Index uses humidity, temperature, the cooling effects of wind and the heating effects of direct solar radiation to calculate an apparent temperature. \n",
    "#### Bar -\t\"Barometric Pressure\n",
    "The weight of the air that makes up our atmosphere exerts a pressure on the surface of the earth. This pressure is known as atmospheric pressure. Generally, the more air above an area, the higher the atmospheric pressure. This, in turn, means that atmospheric pressure changes with altitude. For example, atmospheric pressure is greater at sea-level than on a mountaintop. To compensate for this difference in pressure at different elevations, and to facilitate comparison between locations with different altitudes, meteorologists adjust atmospheric pressure so that it reflects what the pressure would be if measured at sea-level. This adjusted pressure is known as barometric pressure.\n",
    "\n",
    "Barometric pressure changes with local weather conditions, making barometric pressure an important and useful weather forecasting tool. High pressure zones are generally associated with fair weather, while low pressure zones are generally associated with poor weather. For forecasting purposes, the absolute barometric pressure value is generally less important than the change in barometric pressure. In general, rising pressure indicates improving weather conditions, while falling pressure indicates deteriorating weather conditions.\"\n",
    "#### Rain -\tRainfall\t\n",
    "In calculating both daily and yearly rainfall totals for the software, the WeatherLink checks the total rain register on the station. The WeatherLink compares the current total rain value to the previous total rain entry in the archive memory to determine the amount of rainfall that occurred during the interval.\n",
    "#### RainRate -\tHigh Rain Rate\t\n",
    "Available for Vantage Vue, Vantage Pro and Vantage Pro2 stations only, the rain rate is calculated by measuring the time interval between each rainfall increment. When there is rainfall within the archive period, the highest measured value is reported. When no rainfall occurs, the rain rate will slowly decay based on the elapse time since the last measured rainfall.\n",
    "#### SolarRad -\tSolar Radiation\t\n",
    "What we call \"current solar radiation\" is technically known as Global Solar Radiation, a measure of the intensity of the sun’s radiation reaching a horizontal surface. This irradiance includes both the direct component from the sun and the reflected component from the rest of the sky. The solar radiation reading gives a measure of the amount of solar radiation hitting the solar radiation sensor at any given time, expressed in Watts per square meter (W/m2). The value logged by WeatherLink is the average solar radiation measured over the archive interval.\n",
    "#### SolarEnergy -\tSolar Energy\t\n",
    "The amount of accumulated solar radiation energy over a period of time is measured in Langleys. \n",
    "1 Langley  = 11.622 Watt-hours per square meter\n",
    " = 3.687 BTUs per square foot\n",
    " = 41.84 kilojoules per square meter\"\n",
    "#### HiSolarRad -\tHi Solar Radiation\t\n",
    "#### HeatD-D -\tHeating Degree-Days\t\n",
    "One heating degree-day is the amount of heat required to keep a structure at 65ºF when the outside temperature remains one degree below the 65ºF threshold for 24 hours. One heating degree-day is also the amount of heat required to keep that structure at 65ºF when the temperature remains 24ºF below that 65º threshold for 1 hour. \n",
    "#### CoolD-D -\tCooling Degree-Days\t\n",
    "Likewise, one cooling degree-day is the amount of cooling required to keep a structure at 65ºF when the outside temperature remains one degree above the 65ºF threshold for 24 hours. One cooling degree-day is also the amount of cooling required to keep that structure at 65ºF when the temperature remains 24ºF above that 65º threshold for 1 hour. \n",
    "#### InTemp\t -Indoor Temperature\t\n",
    "#### InHum -\tIndoor Humidity\t\n",
    "#### InDew -\tIndoor Dew Point\t\n",
    "#### InHeat -\tIndoor Heat Index\t\n",
    "#### InEMC -\tEquilibrium moisture content\t\n",
    "Moisture content in wood affects both the size and strength of lumber. If you know the EMC of the storage or manufacturing area (which is derived using temperature and humidity readings), you can also determine the moisture content of the wood stored there.\n",
    "#### InAirDensity -\tAir Density\t\n",
    "Air Density (the weight of 1 cubic foot or 1 cubic meter of air ) is a valuable tool for racing enthusiasts, because it helps determine the optimal jetting under current weather conditions.\n",
    "#### ET\t\t\n",
    "#### WindSamp\t\t\n",
    "#### WindTx\t\t\n",
    "#### ISSRecept\tISS Reception Rate\t\n",
    "The ISS Reception rate shows the percentage of wind data packets that have been successfully received by the Vnatage Vue, Vantage Pro or Vantage Pro2 console"
   ]
  },
  {
   "cell_type": "code",
   "execution_count": null,
   "metadata": {},
   "outputs": [],
   "source": []
  }
 ],
 "metadata": {
  "kernelspec": {
   "display_name": "Python (pv_predict_conda)",
   "language": "python",
   "name": "pv_predict_conda"
  },
  "language_info": {
   "codemirror_mode": {
    "name": "ipython",
    "version": 3
   },
   "file_extension": ".py",
   "mimetype": "text/x-python",
   "name": "python",
   "nbconvert_exporter": "python",
   "pygments_lexer": "ipython3",
   "version": "3.8.5"
  }
 },
 "nbformat": 4,
 "nbformat_minor": 4
}
